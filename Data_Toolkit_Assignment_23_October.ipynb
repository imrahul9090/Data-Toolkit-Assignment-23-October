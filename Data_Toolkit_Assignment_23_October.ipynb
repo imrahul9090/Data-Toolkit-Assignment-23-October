{
  "nbformat": 4,
  "nbformat_minor": 0,
  "metadata": {
    "colab": {
      "provenance": []
    },
    "kernelspec": {
      "name": "python3",
      "display_name": "Python 3"
    },
    "language_info": {
      "name": "python"
    }
  },
  "cells": [
    {
      "cell_type": "markdown",
      "source": [
        "1  - What is the difference between multithreading and multiprocessing?\n",
        "\n",
        "Ans-\n",
        "a. Multithreading\n",
        "\n",
        "Definition:\n",
        "Multithreading means running multiple threads (smallest units of a process) within a single process.\n",
        "All threads share the same memory and resources, but they can execute different parts of code concurrently (appearing to run at the same time).\n",
        "\n",
        "Example in real life:\n",
        "Imagine a web browser —\n",
        "\n",
        "One thread handles page loading\n",
        "\n",
        "Another thread plays a video\n",
        "\n",
        "Another handles user input\n",
        "All are part of the same program, sharing memory and data.\n",
        "\n",
        "Key Points:\n",
        "\n",
        "Threads belong to one main process.\n",
        "\n",
        "They share the same memory space.\n",
        "\n",
        "They are lightweight and faster to start than processes.\n",
        "\n",
        "In Python, because of the Global Interpreter Lock (GIL), only one thread runs Python code at a time, but multithreading is still great for I/O-bound tasks (like downloading files, waiting for input, etc.)."
      ],
      "metadata": {
        "id": "iLeWzMHcxHk4"
      }
    },
    {
      "cell_type": "code",
      "source": [
        "import threading\n",
        "import time\n",
        "\n",
        "def print_numbers():\n",
        "    for i in range(1, 6):\n",
        "        print(f\"Number: {i}\")\n",
        "        time.sleep(1)\n",
        "\n",
        "def print_letters():\n",
        "    for ch in 'ABCDE':\n",
        "        print(f\"Letter: {ch}\")\n",
        "        time.sleep(1)\n",
        "\n",
        "# Create threads\n",
        "t1 = threading.Thread(target=print_numbers)\n",
        "t2 = threading.Thread(target=print_letters)\n",
        "\n",
        "# Start threads\n",
        "t1.start()\n",
        "t2.start()\n",
        "\n",
        "# Wait for both to finish\n",
        "t1.join()\n",
        "t2.join()\n",
        "\n",
        "print(\"Done!\")\n"
      ],
      "metadata": {
        "colab": {
          "base_uri": "https://localhost:8080/"
        },
        "id": "qp__hXfJDoLA",
        "outputId": "f079080c-3b46-40e0-987c-120287dcb4a6"
      },
      "execution_count": 1,
      "outputs": [
        {
          "output_type": "stream",
          "name": "stdout",
          "text": [
            "Number: 1\n",
            "Letter: A\n",
            "Number: 2\n",
            "Letter: B\n",
            "Number: 3\n",
            "Letter: C\n",
            "Number: 4Letter: D\n",
            "\n",
            "Letter: E\n",
            "Number: 5\n",
            "Done!\n"
          ]
        }
      ]
    },
    {
      "cell_type": "markdown",
      "source": [
        "b. Multiprocessing\n",
        "\n",
        "Definition:\n",
        "Multiprocessing means running multiple processes, each with its own memory space and Python interpreter.\n",
        "Each process can run truly in parallel on multiple CPU cores — overcoming the GIL limitation.\n",
        "\n",
        "Example in real life:\n",
        "Imagine a restaurant kitchen with several cooks — each has their own tools (memory) and can cook separate dishes (tasks) independently.\n",
        "\n",
        "Key Points:\n",
        "\n",
        "Each process runs in its own memory space.\n",
        "\n",
        "True parallelism is possible (especially for CPU-heavy tasks).\n",
        "\n",
        "Heavier than threads — creating a process takes more system resources.\n",
        "\n",
        "Good for CPU-bound tasks like image processing, data computation, etc."
      ],
      "metadata": {
        "id": "rnGrzjBqFxXI"
      }
    },
    {
      "cell_type": "code",
      "source": [
        "import multiprocessing\n",
        "import time\n",
        "\n",
        "def square_numbers():\n",
        "    for i in range(1, 6):\n",
        "        print(f\"Square of {i}: {i * i}\")\n",
        "        time.sleep(1)\n",
        "\n",
        "if __name__ == \"__main__\":\n",
        "    p1 = multiprocessing.Process(target=square_numbers)\n",
        "    p2 = multiprocessing.Process(target=square_numbers)\n",
        "\n",
        "    p1.start()\n",
        "    p2.start()\n",
        "\n",
        "    p1.join()\n",
        "    p2.join()\n",
        "\n",
        "    print(\"Done!\")\n"
      ],
      "metadata": {
        "colab": {
          "base_uri": "https://localhost:8080/"
        },
        "id": "f7nDhGzOF62T",
        "outputId": "a9782f5d-323c-4096-fa20-b3f64c0ecbb4"
      },
      "execution_count": 2,
      "outputs": [
        {
          "output_type": "stream",
          "name": "stdout",
          "text": [
            "Square of 1: 1\n",
            "Square of 1: 1\n",
            "Square of 2: 4\n",
            "Square of 2: 4\n",
            "Square of 3: 9\n",
            "Square of 3: 9\n",
            "Square of 4: 16\n",
            "Square of 4: 16\n",
            "Square of 5: 25\n",
            "Square of 5: 25\n",
            "Done!\n"
          ]
        }
      ]
    },
    {
      "cell_type": "markdown",
      "source": [
        "In short:\n",
        "\n",
        "Use multithreading for I/O-bound tasks.\n",
        "\n",
        "Use multiprocessing for CPU-bound tasks."
      ],
      "metadata": {
        "id": "AEbqOhD2GJRs"
      }
    },
    {
      "cell_type": "markdown",
      "source": [
        "2  - What are the challenges associated with memory management in Python?\n",
        "\n",
        "Ans- Memory Management in Python (in short)\n",
        "\n",
        "Python manages memory automatically using:\n",
        "\n",
        "Private heap space (where all Python objects are stored)\n",
        "\n",
        "Garbage collector (to free memory when objects are no longer in use)\n",
        "\n",
        "Reference counting (to track how many variables refer to an object)\n",
        "\n",
        "While this automation helps developers, it also comes with some challenges.\n",
        "\n",
        "Challenges Associated with Memory Management in Python\n",
        "1. Memory Leaks\n",
        "\n",
        "Happens when objects are no longer needed but not released from memory.\n",
        "\n",
        "Common causes:\n",
        "\n",
        "Circular references (objects referring to each other)\n",
        "\n",
        "Global variables or caches that never get cleared\n",
        "\n",
        "Large data structures staying in memory unintentionally\n",
        "\n",
        "a = []\n",
        "b = [a]\n",
        "a.append(b)  # circular reference\n",
        "\n",
        "Even if you delete a and b, garbage collection might not free them immediately.\n",
        "\n",
        "2. Garbage Collector Overhead\n",
        "\n",
        "Python’s garbage collector periodically scans for unused objects.\n",
        "\n",
        "This can add runtime overhead, especially in programs with many small, short-lived objects (like web servers).\n",
        "\n",
        "Developers may need to tune or disable it for performance-critical code.\n",
        "\n",
        "3. Fragmentation of Memory\n",
        "\n",
        "Because Python’s memory allocator (called PyMalloc) handles many objects of different sizes, memory can get fragmented.\n",
        "\n",
        "This means memory is available but scattered, making it harder for large objects to find continuous free space.\n",
        "\n",
        "It leads to increased memory usage over time.\n",
        "\n",
        "4. Global Interpreter Lock (GIL) Limitation\n",
        "\n",
        "Even though Python can use multiple threads, only one thread executes Python bytecode at a time.\n",
        "\n",
        "This limits efficient CPU usage for memory-heavy multithreaded programs.\n",
        "\n",
        "5. Objects Staying in Memory Longer Than Expected\n",
        "\n",
        "Python caches small integers and strings for performance (called interning).\n",
        "\n",
        "These stay in memory for the entire runtime, even if you don’t need them later.\n",
        "\n",
        "6. Difficulty in Handling Large Data\n",
        "\n",
        "For programs that process large datasets (e.g., images, machine learning), Python can consume a lot of memory because:\n",
        "\n",
        "Every object (even small ones) has metadata overhead.\n",
        "\n",
        "Lists and dictionaries are dynamic and require extra space.\n",
        "\n",
        "In summary\n",
        "\n",
        "Main challenges:\n",
        "\n",
        "Memory leaks\n",
        "\n",
        "Garbage collection overhead\n",
        "\n",
        "Memory fragmentation\n",
        "\n",
        "GIL limitation\n",
        "\n",
        "Inefficient handling of large objects\n",
        "\n",
        "Despite these, Python’s automatic memory management makes programming easier — you just need to be aware of these pitfalls when optimizing performance or handling large-scale data."
      ],
      "metadata": {
        "id": "aQvJsd8QGNfr"
      }
    },
    {
      "cell_type": "markdown",
      "source": [
        "3  - 3:Write a Python program that logs an error message to a log file when a\n",
        "division by zero exception occurs.\n",
        "\n"
      ],
      "metadata": {
        "id": "WO32c0DlOFB_"
      }
    },
    {
      "cell_type": "code",
      "source": [
        "import logging\n",
        "\n",
        "# Configure the logging settings\n",
        "logging.basicConfig(\n",
        "    filename=\"error_log.txt\",        # log file name\n",
        "    level=logging.ERROR,             # log only ERROR level messages\n",
        "    format=\"%(asctime)s - %(levelname)s - %(message)s\"  # log format\n",
        ")\n",
        "\n",
        "try:\n",
        "    # Example code that may raise an exception\n",
        "    num1 = int(input(\"Enter numerator: \"))\n",
        "    num2 = int(input(\"Enter denominator: \"))\n",
        "\n",
        "    result = num1 / num2\n",
        "    print(\"Result:\", result)\n",
        "\n",
        "except ZeroDivisionError as e:\n",
        "    print(\"Error: Division by zero is not allowed.\")\n",
        "    logging.error(\"Division by zero error occurred: %s\", e)\n",
        "\n",
        "except Exception as e:\n",
        "    print(\"An unexpected error occurred.\")\n",
        "    logging.error(\"Unexpected error: %s\", e)\n"
      ],
      "metadata": {
        "colab": {
          "base_uri": "https://localhost:8080/"
        },
        "id": "W5WasAIKRnZ6",
        "outputId": "7a5dde99-2fe1-4328-f0d5-38585d479f7b"
      },
      "execution_count": 3,
      "outputs": [
        {
          "output_type": "stream",
          "name": "stdout",
          "text": [
            "Enter numerator: 45\n",
            "Enter denominator: 4\n",
            "Result: 11.25\n"
          ]
        }
      ]
    },
    {
      "cell_type": "markdown",
      "source": [
        "Explanation:\n",
        "\n",
        "import logging – imports Python’s built-in logging module.\n",
        "\n",
        "basicConfig() – sets up the log file, level, and format.\n",
        "\n",
        "The program takes two numbers from the user and tries to divide them.\n",
        "\n",
        "If a ZeroDivisionError occurs, it:\n",
        "\n",
        "Prints an error message on the console.\n",
        "\n",
        "Logs the detailed error in error_log.txt.\n",
        "\n",
        "Any other unexpected error is also logged."
      ],
      "metadata": {
        "id": "HCvQcSxvTE_J"
      }
    },
    {
      "cell_type": "markdown",
      "source": [
        "4  - Write a Python program that reads from one file and writes its content to\n",
        "another file.\n",
        "\n"
      ],
      "metadata": {
        "id": "yCv0DE1pTa83"
      }
    },
    {
      "cell_type": "code",
      "source": [
        "# Program to read from one file and write its content to another file\n",
        "\n",
        "# Input and output file names\n",
        "source_file = \"source.txt\"\n",
        "destination_file = \"copy.txt\"\n",
        "\n",
        "try:\n",
        "    # Open the source file in read mode\n",
        "    with open(source_file, \"r\") as src:\n",
        "        # Read all content\n",
        "        content = src.read()\n",
        "\n",
        "    # Open the destination file in write mode\n",
        "    with open(destination_file, \"w\") as dest:\n",
        "        # Write the content\n",
        "        dest.write(content)\n",
        "\n",
        "    print(f\"Content successfully copied from '{source_file}' to '{destination_file}'.\")\n",
        "\n",
        "except FileNotFoundError:\n",
        "    print(f\"Error: The file '{source_file}' was not found.\")\n",
        "\n",
        "except Exception as e:\n",
        "    print(\"An unexpected error occurred:\", e)\n"
      ],
      "metadata": {
        "colab": {
          "base_uri": "https://localhost:8080/"
        },
        "id": "lJFG11zUTdwZ",
        "outputId": "cf1505be-57f9-49a5-e183-58a1d28a3177"
      },
      "execution_count": 4,
      "outputs": [
        {
          "output_type": "stream",
          "name": "stdout",
          "text": [
            "Error: The file 'source.txt' was not found.\n"
          ]
        }
      ]
    },
    {
      "cell_type": "markdown",
      "source": [
        "Explanation:\n",
        "\n",
        "with open(source_file, \"r\") as src:\n",
        "Opens the source file in read mode and ensures it closes automatically after use.\n",
        "\n",
        "content = src.read()\n",
        "Reads the entire content of the file.\n",
        "\n",
        "with open(destination_file, \"w\") as dest:\n",
        "Opens (or creates) the destination file in write mode.\n",
        "\n",
        "dest.write(content)\n",
        "Writes the content read from the source file.\n",
        "\n",
        "The program handles errors like missing source files safely using try-except."
      ],
      "metadata": {
        "id": "MLbqLCp3m1is"
      }
    },
    {
      "cell_type": "markdown",
      "source": [
        "5 - Write a program that handles both IndexError and KeyError using a\n",
        "try-except block.\n",
        "\n"
      ],
      "metadata": {
        "id": "YE7VqqAonLsI"
      }
    },
    {
      "cell_type": "code",
      "source": [
        "# Example program to handle IndexError and KeyError\n",
        "def handle_exceptions():\n",
        "    try:\n",
        "        # Code that may raise IndexError\n",
        "        my_list = [1, 2, 3]\n",
        "        print(\"Accessing 5th element in the list:\", my_list[4])  # This will raise IndexError\n",
        "\n",
        "        # Code that may raise KeyError\n",
        "        my_dict = {\"a\": 1, \"b\": 2}\n",
        "        print(\"Accessing non-existent key in dictionary:\", my_dict[\"c\"])  # This will raise KeyError\n",
        "\n",
        "    except IndexError as e:\n",
        "        print(f\"IndexError occurred: {e}\")\n",
        "\n",
        "    except KeyError as e:\n",
        "        print(f\"KeyError occurred: {e}\")\n",
        "\n",
        "# Call the function\n",
        "handle_exceptions()\n"
      ],
      "metadata": {
        "colab": {
          "base_uri": "https://localhost:8080/"
        },
        "id": "AkWw8iLenYU4",
        "outputId": "8b1db132-d8ab-46ec-ea83-d55ca1f9c416"
      },
      "execution_count": 5,
      "outputs": [
        {
          "output_type": "stream",
          "name": "stdout",
          "text": [
            "IndexError occurred: list index out of range\n"
          ]
        }
      ]
    },
    {
      "cell_type": "markdown",
      "source": [
        "Explanation:\n",
        "IndexError: Raised when trying to access an index that is out of range in a list.\n",
        "KeyError: Raised when trying to access a key that does not exist in a dictionary.\n",
        "try-except block: Handles both exceptions separately, providing specific error messages for each."
      ],
      "metadata": {
        "id": "y7ydyg0QqfvT"
      }
    },
    {
      "cell_type": "markdown",
      "source": [
        "6  - What are the differences between NumPy arrays and Python lists?\n",
        "\n",
        "Ans- 1. Data Type\n",
        "\n",
        "NumPy Array: All elements must be of the same data type (e.g., all integers or all floats).\n",
        "\n",
        "Python List: Can contain different data types in the same list (e.g., int, float, string).\n",
        "\n",
        "🔹 2. Performance\n",
        "\n",
        "NumPy Array: Much faster — implemented in C and stores data in contiguous memory.\n",
        "\n",
        "Python List: Slower — implemented in Python, and each element is a separate object in memory.\n",
        "\n",
        "🔹 3. Memory Usage\n",
        "\n",
        "NumPy Array: More memory efficient, stores raw data compactly without extra object overhead.\n",
        "\n",
        "Python List: Consumes more memory, as each element holds additional object metadata.\n",
        "\n",
        "🔹 4. Mathematical Operations\n",
        "\n",
        "NumPy Array: Supports vectorized operations — you can perform element-wise addition, subtraction, etc., directly.\n",
        "\n",
        "Python List: Does not support vectorized operations — you must use loops or list comprehensions.\n",
        "\n",
        "🔹 5. Functionality\n",
        "\n",
        "NumPy Array: Provides many built-in mathematical, statistical, and linear algebra functions.\n",
        "\n",
        "Python List: Provides only basic operations like append, remove, sort, etc.\n",
        "\n",
        "🔹 6. Dimensionality\n",
        "\n",
        "NumPy Array: Can be multi-dimensional (1D, 2D, 3D, etc.) — ideal for matrix operations.\n",
        "\n",
        "Python List: Mostly 1D, though lists of lists can simulate 2D — but less efficient.\n",
        "\n",
        "🔹 7. Behavior with “+” Operator\n",
        "\n",
        "NumPy Array: Performs element-wise addition.\n",
        "\n",
        "Python List: Performs concatenation of lists."
      ],
      "metadata": {
        "id": "uLCN6pDbrqxz"
      }
    },
    {
      "cell_type": "code",
      "source": [
        "import numpy as np\n",
        "\n",
        "# NumPy Array\n",
        "a = np.array([1, 2, 3])\n",
        "b = np.array([4, 5, 6])\n",
        "print(a + b)  # Output: [5 7 9]\n",
        "\n",
        "# Python List\n",
        "x = [1, 2, 3]\n",
        "y = [4, 5, 6]\n",
        "print(x + y)  # Output: [1, 2, 3, 4, 5, 6]\n"
      ],
      "metadata": {
        "id": "cV-GVhmet2IJ"
      },
      "execution_count": null,
      "outputs": []
    },
    {
      "cell_type": "markdown",
      "source": [
        " 7  - 🔹 1. Purpose\n",
        "\n",
        "map() → Used only with Series (one column) to transform or map values element-wise.\n",
        "\n",
        "apply() → Used with both Series and DataFrames to apply a custom function along an axis (rows or columns).\n",
        "\n",
        "🔹 2. Scope\n",
        "\n",
        "map() → Works on individual elements of a Series.\n",
        "\n",
        "apply() → Works on entire rows or columns (for DataFrame) or elements (for Series).\n",
        "\n",
        "🔹 3. Syntax\n",
        "Series.map(function)\n",
        "DataFrame.apply(function, axis=0 or 1)\n",
        "\n",
        "\n",
        "axis=0 → Apply function to each column\n",
        "\n",
        "axis=1 → Apply function to each row\n",
        "\n",
        "🔹 4. Return Type\n",
        "\n",
        "map() → Always returns a Series.\n",
        "\n",
        "apply() → Can return a Series, DataFrame, or even a scalar, depending on the function used.\n",
        "\n",
        "🔹 5. Use Cases\n",
        "\n",
        "map() → When you want to apply a function, dictionary, or mapping to each value of a single column.\n",
        "\n",
        "apply() → When you want to apply a function across multiple columns or rows."
      ],
      "metadata": {
        "id": "jWvsmiHvt4By"
      }
    },
    {
      "cell_type": "markdown",
      "source": [
        "✅ Example using map()"
      ],
      "metadata": {
        "id": "MJjae42TceEG"
      }
    },
    {
      "cell_type": "code",
      "source": [
        "import pandas as pd\n",
        "\n",
        "s = pd.Series([1, 2, 3, 4])\n",
        "\n",
        "# Add 10 to each element\n",
        "print(s.map(lambda x: x + 10))\n"
      ],
      "metadata": {
        "colab": {
          "base_uri": "https://localhost:8080/"
        },
        "id": "JsL0pAXhcgTt",
        "outputId": "14d71c64-0e37-4105-f6a5-2da923590b42"
      },
      "execution_count": 1,
      "outputs": [
        {
          "output_type": "stream",
          "name": "stdout",
          "text": [
            "0    11\n",
            "1    12\n",
            "2    13\n",
            "3    14\n",
            "dtype: int64\n"
          ]
        }
      ]
    },
    {
      "cell_type": "markdown",
      "source": [
        "✅ Example using apply()"
      ],
      "metadata": {
        "id": "LQtyNk1FcqJe"
      }
    },
    {
      "cell_type": "code",
      "source": [
        "import pandas as pd\n",
        "\n",
        "df = pd.DataFrame({\n",
        "    'A': [1, 2, 3],\n",
        "    'B': [10, 20, 30]\n",
        "})\n",
        "\n",
        "# Sum each row\n",
        "print(df.apply(lambda x: x.sum(), axis=1))\n"
      ],
      "metadata": {
        "colab": {
          "base_uri": "https://localhost:8080/"
        },
        "id": "Rj_-Ua0JcrHW",
        "outputId": "6ca2e2a8-f4bb-42bd-af6d-52dc7de827ca"
      },
      "execution_count": 2,
      "outputs": [
        {
          "output_type": "stream",
          "name": "stdout",
          "text": [
            "0    11\n",
            "1    22\n",
            "2    33\n",
            "dtype: int64\n"
          ]
        }
      ]
    },
    {
      "cell_type": "markdown",
      "source": [
        "8  - Create a histogram using Seaborn to visualize a distribution."
      ],
      "metadata": {
        "id": "cjUlY0NQcu5K"
      }
    },
    {
      "cell_type": "code",
      "source": [
        "import seaborn as sns\n",
        "import matplotlib.pyplot as plt\n",
        "\n",
        "# Sample data\n",
        "data = [12, 15, 13, 19, 21, 22, 25, 25, 28, 30, 32, 33, 35, 37, 40, 42, 45, 46, 47, 50]\n",
        "\n",
        "# Create a histogram\n",
        "sns.histplot(data, bins=10, kde=True, color='skyblue')\n",
        "\n",
        "# Add labels and title\n",
        "plt.title(\"Distribution of Values\")\n",
        "plt.xlabel(\"Value\")\n",
        "plt.ylabel(\"Frequency\")\n",
        "\n",
        "# Show the plot\n",
        "plt.show()\n"
      ],
      "metadata": {
        "colab": {
          "base_uri": "https://localhost:8080/",
          "height": 472
        },
        "id": "vF3Cr8sZc67J",
        "outputId": "e231c756-d284-4602-ffe8-1f3d59970505"
      },
      "execution_count": 3,
      "outputs": [
        {
          "output_type": "display_data",
          "data": {
            "text/plain": [
              "<Figure size 640x480 with 1 Axes>"
            ],
            "image/png": "[encoded data removed]"
          },
          "metadata": {}
        }
      ]
    },
    {
      "cell_type": "markdown",
      "source": [
        "Explanation:\n",
        "\n",
        "sns.histplot() → Creates a histogram.\n",
        "\n",
        "data → The dataset to plot.\n",
        "\n",
        "bins=10 → Divides the range into 10 intervals.\n",
        "\n",
        "kde=True → Adds a smooth curve (Kernel Density Estimate) showing the distribution shape.\n",
        "\n",
        "color='skyblue' → Sets the color of the bars.\n",
        "\n",
        "plt.xlabel() / plt.ylabel() / plt.title() → Add labels and title to the chart."
      ],
      "metadata": {
        "id": "n_3rvb6EdEZz"
      }
    },
    {
      "cell_type": "markdown",
      "source": [
        "9  -  Use Pandas to load a CSV file and display its first 5 rows."
      ],
      "metadata": {
        "id": "P8oLB5bAdJhX"
      }
    },
    {
      "cell_type": "code",
      "source": [
        "import pandas as pd\n",
        "\n",
        "# Load the CSV file (replace 'data.csv' with your actual file name)\n",
        "df = pd.read_csv('data.csv')\n",
        "\n",
        "# Display the first 5 rows\n",
        "print(df.head())\n"
      ],
      "metadata": {
        "colab": {
          "base_uri": "https://localhost:8080/",
          "height": 373
        },
        "id": "HFgimZEZdUuA",
        "outputId": "3148d65f-4dc8-4e36-f008-fd7b1f36299f"
      },
      "execution_count": 4,
      "outputs": [
        {
          "output_type": "error",
          "ename": "FileNotFoundError",
          "evalue": "[Errno 2] No such file or directory: 'data.csv'",
          "traceback": [
            "\u001b[0;31m---------------------------------------------------------------------------\u001b[0m",
            "\u001b[0;31mFileNotFoundError\u001b[0m                         Traceback (most recent call last)",
            "\u001b[0;32m/tmp/ipython-input-1340947620.py\u001b[0m in \u001b[0;36m<cell line: 0>\u001b[0;34m()\u001b[0m\n\u001b[1;32m      2\u001b[0m \u001b[0;34m\u001b[0m\u001b[0m\n\u001b[1;32m      3\u001b[0m \u001b[0;31m# Load the CSV file (replace 'data.csv' with your actual file name)\u001b[0m\u001b[0;34m\u001b[0m\u001b[0;34m\u001b[0m\u001b[0m\n\u001b[0;32m----> 4\u001b[0;31m \u001b[0mdf\u001b[0m \u001b[0;34m=\u001b[0m \u001b[0mpd\u001b[0m\u001b[0;34m.\u001b[0m\u001b[0mread_csv\u001b[0m\u001b[0;34m(\u001b[0m\u001b[0;34m'data.csv'\u001b[0m\u001b[0;34m)\u001b[0m\u001b[0;34m\u001b[0m\u001b[0;34m\u001b[0m\u001b[0m\n\u001b[0m\u001b[1;32m      5\u001b[0m \u001b[0;34m\u001b[0m\u001b[0m\n\u001b[1;32m      6\u001b[0m \u001b[0;31m# Display the first 5 rows\u001b[0m\u001b[0;34m\u001b[0m\u001b[0;34m\u001b[0m\u001b[0m\n",
            "\u001b[0;32m/usr/local/lib/python3.12/dist-packages/pandas/io/parsers/readers.py\u001b[0m in \u001b[0;36mread_csv\u001b[0;34m(filepath_or_buffer, sep, delimiter, header, names, index_col, usecols, dtype, engine, converters, true_values, false_values, skipinitialspace, skiprows, skipfooter, nrows, na_values, keep_default_na, na_filter, verbose, skip_blank_lines, parse_dates, infer_datetime_format, keep_date_col, date_parser, date_format, dayfirst, cache_dates, iterator, chunksize, compression, thousands, decimal, lineterminator, quotechar, quoting, doublequote, escapechar, comment, encoding, encoding_errors, dialect, on_bad_lines, delim_whitespace, low_memory, memory_map, float_precision, storage_options, dtype_backend)\u001b[0m\n\u001b[1;32m   1024\u001b[0m     \u001b[0mkwds\u001b[0m\u001b[0;34m.\u001b[0m\u001b[0mupdate\u001b[0m\u001b[0;34m(\u001b[0m\u001b[0mkwds_defaults\u001b[0m\u001b[0;34m)\u001b[0m\u001b[0;34m\u001b[0m\u001b[0;34m\u001b[0m\u001b[0m\n\u001b[1;32m   1025\u001b[0m \u001b[0;34m\u001b[0m\u001b[0m\n\u001b[0;32m-> 1026\u001b[0;31m     \u001b[0;32mreturn\u001b[0m \u001b[0m_read\u001b[0m\u001b[0;34m(\u001b[0m\u001b[0mfilepath_or_buffer\u001b[0m\u001b[0;34m,\u001b[0m \u001b[0mkwds\u001b[0m\u001b[0;34m)\u001b[0m\u001b[0;34m\u001b[0m\u001b[0;34m\u001b[0m\u001b[0m\n\u001b[0m\u001b[1;32m   1027\u001b[0m \u001b[0;34m\u001b[0m\u001b[0m\n\u001b[1;32m   1028\u001b[0m \u001b[0;34m\u001b[0m\u001b[0m\n",
            "\u001b[0;32m/usr/local/lib/python3.12/dist-packages/pandas/io/parsers/readers.py\u001b[0m in \u001b[0;36m_read\u001b[0;34m(filepath_or_buffer, kwds)\u001b[0m\n\u001b[1;32m    618\u001b[0m \u001b[0;34m\u001b[0m\u001b[0m\n\u001b[1;32m    619\u001b[0m     \u001b[0;31m# Create the parser.\u001b[0m\u001b[0;34m\u001b[0m\u001b[0;34m\u001b[0m\u001b[0m\n\u001b[0;32m--> 620\u001b[0;31m     \u001b[0mparser\u001b[0m \u001b[0;34m=\u001b[0m \u001b[0mTextFileReader\u001b[0m\u001b[0;34m(\u001b[0m\u001b[0mfilepath_or_buffer\u001b[0m\u001b[0;34m,\u001b[0m \u001b[0;34m**\u001b[0m\u001b[0mkwds\u001b[0m\u001b[0;34m)\u001b[0m\u001b[0;34m\u001b[0m\u001b[0;34m\u001b[0m\u001b[0m\n\u001b[0m\u001b[1;32m    621\u001b[0m \u001b[0;34m\u001b[0m\u001b[0m\n\u001b[1;32m    622\u001b[0m     \u001b[0;32mif\u001b[0m \u001b[0mchunksize\u001b[0m \u001b[0;32mor\u001b[0m \u001b[0miterator\u001b[0m\u001b[0;34m:\u001b[0m\u001b[0;34m\u001b[0m\u001b[0;34m\u001b[0m\u001b[0m\n",
            "\u001b[0;32m/usr/local/lib/python3.12/dist-packages/pandas/io/parsers/readers.py\u001b[0m in \u001b[0;36m__init__\u001b[0;34m(self, f, engine, **kwds)\u001b[0m\n\u001b[1;32m   1618\u001b[0m \u001b[0;34m\u001b[0m\u001b[0m\n\u001b[1;32m   1619\u001b[0m         \u001b[0mself\u001b[0m\u001b[0;34m.\u001b[0m\u001b[0mhandles\u001b[0m\u001b[0;34m:\u001b[0m \u001b[0mIOHandles\u001b[0m \u001b[0;34m|\u001b[0m \u001b[0;32mNone\u001b[0m \u001b[0;34m=\u001b[0m \u001b[0;32mNone\u001b[0m\u001b[0;34m\u001b[0m\u001b[0;34m\u001b[0m\u001b[0m\n\u001b[0;32m-> 1620\u001b[0;31m         \u001b[0mself\u001b[0m\u001b[0;34m.\u001b[0m\u001b[0m_engine\u001b[0m \u001b[0;34m=\u001b[0m \u001b[0mself\u001b[0m\u001b[0;34m.\u001b[0m\u001b[0m_make_engine\u001b[0m\u001b[0;34m(\u001b[0m\u001b[0mf\u001b[0m\u001b[0;34m,\u001b[0m \u001b[0mself\u001b[0m\u001b[0;34m.\u001b[0m\u001b[0mengine\u001b[0m\u001b[0;34m)\u001b[0m\u001b[0;34m\u001b[0m\u001b[0;34m\u001b[0m\u001b[0m\n\u001b[0m\u001b[1;32m   1621\u001b[0m \u001b[0;34m\u001b[0m\u001b[0m\n\u001b[1;32m   1622\u001b[0m     \u001b[0;32mdef\u001b[0m \u001b[0mclose\u001b[0m\u001b[0;34m(\u001b[0m\u001b[0mself\u001b[0m\u001b[0;34m)\u001b[0m \u001b[0;34m->\u001b[0m \u001b[0;32mNone\u001b[0m\u001b[0;34m:\u001b[0m\u001b[0;34m\u001b[0m\u001b[0;34m\u001b[0m\u001b[0m\n",
            "\u001b[0;32m/usr/local/lib/python3.12/dist-packages/pandas/io/parsers/readers.py\u001b[0m in \u001b[0;36m_make_engine\u001b[0;34m(self, f, engine)\u001b[0m\n\u001b[1;32m   1878\u001b[0m                 \u001b[0;32mif\u001b[0m \u001b[0;34m\"b\"\u001b[0m \u001b[0;32mnot\u001b[0m \u001b[0;32min\u001b[0m \u001b[0mmode\u001b[0m\u001b[0;34m:\u001b[0m\u001b[0;34m\u001b[0m\u001b[0;34m\u001b[0m\u001b[0m\n\u001b[1;32m   1879\u001b[0m                     \u001b[0mmode\u001b[0m \u001b[0;34m+=\u001b[0m \u001b[0;34m\"b\"\u001b[0m\u001b[0;34m\u001b[0m\u001b[0;34m\u001b[0m\u001b[0m\n\u001b[0;32m-> 1880\u001b[0;31m             self.handles = get_handle(\n\u001b[0m\u001b[1;32m   1881\u001b[0m                 \u001b[0mf\u001b[0m\u001b[0;34m,\u001b[0m\u001b[0;34m\u001b[0m\u001b[0;34m\u001b[0m\u001b[0m\n\u001b[1;32m   1882\u001b[0m                 \u001b[0mmode\u001b[0m\u001b[0;34m,\u001b[0m\u001b[0;34m\u001b[0m\u001b[0;34m\u001b[0m\u001b[0m\n",
            "\u001b[0;32m/usr/local/lib/python3.12/dist-packages/pandas/io/common.py\u001b[0m in \u001b[0;36mget_handle\u001b[0;34m(path_or_buf, mode, encoding, compression, memory_map, is_text, errors, storage_options)\u001b[0m\n\u001b[1;32m    871\u001b[0m         \u001b[0;32mif\u001b[0m \u001b[0mioargs\u001b[0m\u001b[0;34m.\u001b[0m\u001b[0mencoding\u001b[0m \u001b[0;32mand\u001b[0m \u001b[0;34m\"b\"\u001b[0m \u001b[0;32mnot\u001b[0m \u001b[0;32min\u001b[0m \u001b[0mioargs\u001b[0m\u001b[0;34m.\u001b[0m\u001b[0mmode\u001b[0m\u001b[0;34m:\u001b[0m\u001b[0;34m\u001b[0m\u001b[0;34m\u001b[0m\u001b[0m\n\u001b[1;32m    872\u001b[0m             \u001b[0;31m# Encoding\u001b[0m\u001b[0;34m\u001b[0m\u001b[0;34m\u001b[0m\u001b[0m\n\u001b[0;32m--> 873\u001b[0;31m             handle = open(\n\u001b[0m\u001b[1;32m    874\u001b[0m                 \u001b[0mhandle\u001b[0m\u001b[0;34m,\u001b[0m\u001b[0;34m\u001b[0m\u001b[0;34m\u001b[0m\u001b[0m\n\u001b[1;32m    875\u001b[0m                 \u001b[0mioargs\u001b[0m\u001b[0;34m.\u001b[0m\u001b[0mmode\u001b[0m\u001b[0;34m,\u001b[0m\u001b[0;34m\u001b[0m\u001b[0;34m\u001b[0m\u001b[0m\n",
            "\u001b[0;31mFileNotFoundError\u001b[0m: [Errno 2] No such file or directory: 'data.csv'"
          ]
        }
      ]
    },
    {
      "cell_type": "markdown",
      "source": [
        "xplanation:\n",
        "\n",
        "import pandas as pd → Imports the Pandas library.\n",
        "\n",
        "pd.read_csv('data.csv') → Reads the CSV file and loads it into a DataFrame.\n",
        "\n",
        "df.head() → Displays the first 5 rows of the DataFrame (you can pass a number, e.g. df.head(10) to show 10 rows)."
      ],
      "metadata": {
        "id": "PCtFUEPadgfk"
      }
    },
    {
      "cell_type": "markdown",
      "source": [
        "10  -  Calculate the correlation matrix using Seaborn and visualize it with a\n",
        "heatmap."
      ],
      "metadata": {
        "id": "qt8t-_ljdryp"
      }
    },
    {
      "cell_type": "code",
      "source": [
        "import pandas as pd\n",
        "import seaborn as sns\n",
        "import matplotlib.pyplot as plt\n",
        "\n",
        "# Sample dataset\n",
        "data = {\n",
        "    'Age': [25, 30, 35, 40, 45],\n",
        "    'Salary': [40000, 50000, 60000, 80000, 100000],\n",
        "    'Experience': [1, 3, 5, 7, 9]\n",
        "}\n",
        "\n",
        "# Create DataFrame\n",
        "df = pd.DataFrame(data)\n",
        "\n",
        "# Calculate correlation matrix\n",
        "corr = df.corr()\n",
        "\n",
        "# Display correlation matrix\n",
        "print(corr)\n",
        "\n",
        "# Visualize with Seaborn heatmap\n",
        "sns.heatmap(corr, annot=True, cmap='coolwarm', linewidths=0.5)\n",
        "\n",
        "# Add title\n",
        "plt.title(\"Correlation Matrix Heatmap\")\n",
        "\n",
        "# Show plot\n",
        "plt.show()\n"
      ],
      "metadata": {
        "colab": {
          "base_uri": "https://localhost:8080/",
          "height": 521
        },
        "id": "j48-iIZId2gw",
        "outputId": "b190c81a-2c0c-492c-c697-470dc0f687e3"
      },
      "execution_count": 5,
      "outputs": [
        {
          "output_type": "stream",
          "name": "stdout",
          "text": [
            "                 Age    Salary  Experience\n",
            "Age         1.000000  0.984798    1.000000\n",
            "Salary      0.984798  1.000000    0.984798\n",
            "Experience  1.000000  0.984798    1.000000\n"
          ]
        },
        {
          "output_type": "display_data",
          "data": {
            "text/plain": [
              "<Figure size 640x480 with 2 Axes>"
            ],
            "image/png": "[encoded data removed]"
          },
          "metadata": {}
        }
      ]
    }
  ]
}